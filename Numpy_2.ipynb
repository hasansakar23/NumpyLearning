{
 "cells": [
  {
   "cell_type": "code",
   "execution_count": 1,
   "id": "e5c9b7a7-f71f-4ffc-8fa7-81d87cb444fd",
   "metadata": {},
   "outputs": [],
   "source": [
    "import numpy as np"
   ]
  },
  {
   "cell_type": "code",
   "execution_count": 3,
   "id": "787a9510-4375-4f23-bd14-e15eb645c56c",
   "metadata": {},
   "outputs": [],
   "source": [
    "benimDizim = np.arange(0,15)"
   ]
  },
  {
   "cell_type": "code",
   "execution_count": 5,
   "id": "450fa5d8-2f54-468c-8600-48034955bb54",
   "metadata": {},
   "outputs": [
    {
     "data": {
      "text/plain": [
       "array([ 0,  1,  2,  3,  4,  5,  6,  7,  8,  9, 10, 11, 12, 13, 14])"
      ]
     },
     "execution_count": 5,
     "metadata": {},
     "output_type": "execute_result"
    }
   ],
   "source": [
    "benimDizim"
   ]
  },
  {
   "cell_type": "code",
   "execution_count": 9,
   "id": "35bdf322-4810-4b44-8ca1-3e3bf34b2207",
   "metadata": {},
   "outputs": [
    {
     "data": {
      "text/plain": [
       "5"
      ]
     },
     "execution_count": 9,
     "metadata": {},
     "output_type": "execute_result"
    }
   ],
   "source": [
    "benimDizim[5]"
   ]
  },
  {
   "cell_type": "code",
   "execution_count": 13,
   "id": "ba42649b-b2a5-4878-832c-e4ee427334db",
   "metadata": {},
   "outputs": [
    {
     "data": {
      "text/plain": [
       "array([3, 4])"
      ]
     },
     "execution_count": 13,
     "metadata": {},
     "output_type": "execute_result"
    }
   ],
   "source": [
    "benimDizim[3:5]"
   ]
  },
  {
   "cell_type": "code",
   "execution_count": 15,
   "id": "fa1f5ccd-3c6d-43fd-8d3d-0873e68bfe1c",
   "metadata": {},
   "outputs": [
    {
     "data": {
      "text/plain": [
       "array([2, 3, 4, 5])"
      ]
     },
     "execution_count": 15,
     "metadata": {},
     "output_type": "execute_result"
    }
   ],
   "source": [
    "benimDizim[2:6]"
   ]
  },
  {
   "cell_type": "code",
   "execution_count": 17,
   "id": "161124f0-cecd-4f66-8d2a-08b1904bb69b",
   "metadata": {},
   "outputs": [],
   "source": [
    "benimDizim[3:8] = -5"
   ]
  },
  {
   "cell_type": "code",
   "execution_count": 19,
   "id": "8c44cc72-c0f3-4098-8450-13cd80b63791",
   "metadata": {},
   "outputs": [
    {
     "data": {
      "text/plain": [
       "array([ 0,  1,  2, -5, -5, -5, -5, -5,  8,  9, 10, 11, 12, 13, 14])"
      ]
     },
     "execution_count": 19,
     "metadata": {},
     "output_type": "execute_result"
    }
   ],
   "source": [
    "benimDizim"
   ]
  },
  {
   "cell_type": "code",
   "execution_count": 21,
   "id": "e99baa57-4859-4270-b90a-ccd6ca03d7c7",
   "metadata": {},
   "outputs": [
    {
     "data": {
      "text/plain": [
       "array([ 0,  1,  2,  3,  4,  5,  6,  7,  8,  9, 10, 11, 12, 13, 14, 15, 16,\n",
       "       17, 18, 19, 20, 21, 22, 23])"
      ]
     },
     "execution_count": 21,
     "metadata": {},
     "output_type": "execute_result"
    }
   ],
   "source": [
    "baskaDizi = np.arange(0,24)\n",
    "baskaDizi"
   ]
  },
  {
   "cell_type": "code",
   "execution_count": 23,
   "id": "546e7f25-2e22-499b-a22b-f46006d67c6f",
   "metadata": {},
   "outputs": [
    {
     "data": {
      "text/plain": [
       "array([4, 5, 6, 7, 8])"
      ]
     },
     "execution_count": 23,
     "metadata": {},
     "output_type": "execute_result"
    }
   ],
   "source": [
    "slicingDizi = baskaDizi[4:9]\n",
    "slicingDizi"
   ]
  },
  {
   "cell_type": "code",
   "execution_count": 27,
   "id": "b1b41cd7-d6a8-4285-bd10-d28de15fc49a",
   "metadata": {},
   "outputs": [
    {
     "data": {
      "text/plain": [
       "numpy.ndarray"
      ]
     },
     "execution_count": 27,
     "metadata": {},
     "output_type": "execute_result"
    }
   ],
   "source": [
    "type(slicingDizi) "
   ]
  },
  {
   "cell_type": "code",
   "execution_count": 29,
   "id": "19b820ad-fac9-4ac8-9450-9c5147c92e08",
   "metadata": {},
   "outputs": [],
   "source": [
    "slicingDizi[:]=700"
   ]
  },
  {
   "cell_type": "code",
   "execution_count": 33,
   "id": "4f8ce808-9a26-4c36-8404-d9e2968087ef",
   "metadata": {},
   "outputs": [
    {
     "data": {
      "text/plain": [
       "array([700, 700, 700, 700, 700])"
      ]
     },
     "execution_count": 33,
     "metadata": {},
     "output_type": "execute_result"
    }
   ],
   "source": [
    "slicingDizi"
   ]
  },
  {
   "cell_type": "code",
   "execution_count": 35,
   "id": "a44d4c6c-b321-4b57-89df-e9baac0b4222",
   "metadata": {},
   "outputs": [
    {
     "data": {
      "text/plain": [
       "array([  0,   1,   2,   3, 700, 700, 700, 700, 700,   9,  10,  11,  12,\n",
       "        13,  14,  15,  16,  17,  18,  19,  20,  21,  22,  23])"
      ]
     },
     "execution_count": 35,
     "metadata": {},
     "output_type": "execute_result"
    }
   ],
   "source": [
    "baskaDizi"
   ]
  },
  {
   "cell_type": "markdown",
   "id": "ddfc761b-41ca-439b-9793-23e43412911c",
   "metadata": {},
   "source": [
    " Bir dizi içerisinnden bir parça lıp değiştirilirse asıl olan dizide değişir"
   ]
  },
  {
   "cell_type": "code",
   "execution_count": 38,
   "id": "78ff0d09-3faf-4682-9c7e-c57c63fa532a",
   "metadata": {},
   "outputs": [],
   "source": [
    "ornekDizi = np.arange(0,24)"
   ]
  },
  {
   "cell_type": "code",
   "execution_count": 40,
   "id": "f33d3c91-5105-41e4-b71a-44efa5ddda76",
   "metadata": {},
   "outputs": [],
   "source": [
    "ornekDiziKopyasi = ornekDizi.copy()"
   ]
  },
  {
   "cell_type": "code",
   "execution_count": 44,
   "id": "192a58d1-a5fe-464c-b31d-dbcece46db3f",
   "metadata": {},
   "outputs": [
    {
     "data": {
      "text/plain": [
       "array([ 0,  1,  2,  3,  4,  5,  6,  7,  8,  9, 10, 11, 12, 13, 14, 15, 16,\n",
       "       17, 18, 19, 20, 21, 22, 23])"
      ]
     },
     "execution_count": 44,
     "metadata": {},
     "output_type": "execute_result"
    }
   ],
   "source": [
    "ornekDiziKopyasi"
   ]
  },
  {
   "cell_type": "code",
   "execution_count": 46,
   "id": "21a3e0bc-fffa-4e0e-a6e6-6eeaaca5c98d",
   "metadata": {},
   "outputs": [
    {
     "data": {
      "text/plain": [
       "array([ 0,  1,  2,  3,  4,  5,  6,  7,  8,  9, 10, 11, 12, 13, 14, 15, 16,\n",
       "       17, 18, 19, 20, 21, 22, 23])"
      ]
     },
     "execution_count": 46,
     "metadata": {},
     "output_type": "execute_result"
    }
   ],
   "source": [
    "ornekDizi"
   ]
  },
  {
   "cell_type": "code",
   "execution_count": 48,
   "id": "b1252051-48b4-4c15-a875-e56e47e60670",
   "metadata": {},
   "outputs": [],
   "source": [
    "ornekDiziKopyasiSlicing= ornekDiziKopyasi[3:6]"
   ]
  },
  {
   "cell_type": "code",
   "execution_count": 50,
   "id": "0c2ce7f5-1070-4890-b4d8-c3a264acb19b",
   "metadata": {},
   "outputs": [],
   "source": [
    "ornekDiziKopyasiSlicing[:]=800"
   ]
  },
  {
   "cell_type": "code",
   "execution_count": 52,
   "id": "aefca409-3220-473c-ae90-a02f24df9381",
   "metadata": {},
   "outputs": [
    {
     "data": {
      "text/plain": [
       "array([800, 800, 800])"
      ]
     },
     "execution_count": 52,
     "metadata": {},
     "output_type": "execute_result"
    }
   ],
   "source": [
    "ornekDiziKopyasiSlicing"
   ]
  },
  {
   "cell_type": "code",
   "execution_count": 56,
   "id": "1d170a59-a896-4587-9dcf-c23251d98de6",
   "metadata": {},
   "outputs": [
    {
     "data": {
      "text/plain": [
       "array([  0,   1,   2, 800, 800, 800,   6,   7,   8,   9,  10,  11,  12,\n",
       "        13,  14,  15,  16,  17,  18,  19,  20,  21,  22,  23])"
      ]
     },
     "execution_count": 56,
     "metadata": {},
     "output_type": "execute_result"
    }
   ],
   "source": [
    "ornekDiziKopyasi"
   ]
  },
  {
   "cell_type": "code",
   "execution_count": 58,
   "id": "ef013be5-6040-4f77-acbe-5c057deab581",
   "metadata": {},
   "outputs": [
    {
     "data": {
      "text/plain": [
       "array([ 0,  1,  2,  3,  4,  5,  6,  7,  8,  9, 10, 11, 12, 13, 14, 15, 16,\n",
       "       17, 18, 19, 20, 21, 22, 23])"
      ]
     },
     "execution_count": 58,
     "metadata": {},
     "output_type": "execute_result"
    }
   ],
   "source": [
    "ornekDizi"
   ]
  },
  {
   "cell_type": "markdown",
   "id": "08bca77e-3a85-4a57-b6a6-b7d9900a277d",
   "metadata": {},
   "source": [
    "## MATRIX"
   ]
  },
  {
   "cell_type": "code",
   "execution_count": 61,
   "id": "0aeb5aee-ccf6-46d6-959a-018165ae49ad",
   "metadata": {},
   "outputs": [],
   "source": [
    "benimListem= [[10,20,30],[20,30,40], [30,40,50]]"
   ]
  },
  {
   "cell_type": "code",
   "execution_count": 63,
   "id": "bb35c9bc-a3e4-4cbe-8d0b-232360c45951",
   "metadata": {},
   "outputs": [],
   "source": [
    "benimMatrixDizim = np.array(benimListem)"
   ]
  },
  {
   "cell_type": "code",
   "execution_count": 65,
   "id": "b7182407-61ae-4c69-9277-d71b72cbf398",
   "metadata": {},
   "outputs": [
    {
     "data": {
      "text/plain": [
       "array([[10, 20, 30],\n",
       "       [20, 30, 40],\n",
       "       [30, 40, 50]])"
      ]
     },
     "execution_count": 65,
     "metadata": {},
     "output_type": "execute_result"
    }
   ],
   "source": [
    "benimMatrixDizim"
   ]
  },
  {
   "cell_type": "code",
   "execution_count": 67,
   "id": "89f69e2d-8070-4a94-9f32-4705ca84e5db",
   "metadata": {},
   "outputs": [
    {
     "data": {
      "text/plain": [
       "array([10, 20, 30])"
      ]
     },
     "execution_count": 67,
     "metadata": {},
     "output_type": "execute_result"
    }
   ],
   "source": [
    "benimMatrixDizim[0]"
   ]
  },
  {
   "cell_type": "code",
   "execution_count": 69,
   "id": "8f0cab53-3f77-42f4-ab2d-f4d33548a438",
   "metadata": {},
   "outputs": [
    {
     "data": {
      "text/plain": [
       "40"
      ]
     },
     "execution_count": 69,
     "metadata": {},
     "output_type": "execute_result"
    }
   ],
   "source": [
    "benimMatrixDizim[2][1]"
   ]
  },
  {
   "cell_type": "code",
   "execution_count": 71,
   "id": "c37fc821-fc11-4114-ad35-455d579f5d9a",
   "metadata": {},
   "outputs": [
    {
     "data": {
      "text/plain": [
       "40"
      ]
     },
     "execution_count": 71,
     "metadata": {},
     "output_type": "execute_result"
    }
   ],
   "source": [
    "benimMatrixDizim[1,2]"
   ]
  },
  {
   "cell_type": "code",
   "execution_count": 73,
   "id": "10f627e0-2115-4537-8435-3811e12e88b8",
   "metadata": {},
   "outputs": [
    {
     "data": {
      "text/plain": [
       "array([[20, 30, 40],\n",
       "       [30, 40, 50]])"
      ]
     },
     "execution_count": 73,
     "metadata": {},
     "output_type": "execute_result"
    }
   ],
   "source": [
    "benimMatrixDizim[1:]"
   ]
  },
  {
   "cell_type": "code",
   "execution_count": 75,
   "id": "060948dd-e82d-4719-9777-a8a5011121e7",
   "metadata": {},
   "outputs": [
    {
     "data": {
      "text/plain": [
       "array([[20, 30, 40]])"
      ]
     },
     "execution_count": 75,
     "metadata": {},
     "output_type": "execute_result"
    }
   ],
   "source": [
    "benimMatrixDizim[1:2]"
   ]
  },
  {
   "cell_type": "code",
   "execution_count": 77,
   "id": "1c29e843-b022-4680-98f6-2497e8222ac3",
   "metadata": {},
   "outputs": [
    {
     "data": {
      "text/plain": [
       "array([[30]])"
      ]
     },
     "execution_count": 77,
     "metadata": {},
     "output_type": "execute_result"
    }
   ],
   "source": [
    "benimMatrixDizim[2:,:1]"
   ]
  },
  {
   "cell_type": "code",
   "execution_count": 79,
   "id": "845516f6-e972-4c98-b727-26d61f0b3616",
   "metadata": {},
   "outputs": [
    {
     "data": {
      "text/plain": [
       "array([[10],\n",
       "       [20]])"
      ]
     },
     "execution_count": 79,
     "metadata": {},
     "output_type": "execute_result"
    }
   ],
   "source": [
    "benimMatrixDizim[0:2,:1]"
   ]
  },
  {
   "cell_type": "code",
   "execution_count": 81,
   "id": "57d3344b-efa0-4f1a-8c5d-cac4bfc16c89",
   "metadata": {},
   "outputs": [],
   "source": [
    "yeniListe=np.arange(0,25)"
   ]
  },
  {
   "cell_type": "code",
   "execution_count": 83,
   "id": "7e25e317-5bcc-4f87-a638-9bbd4fc51c11",
   "metadata": {},
   "outputs": [
    {
     "data": {
      "text/plain": [
       "array([ 0,  1,  2,  3,  4,  5,  6,  7,  8,  9, 10, 11, 12, 13, 14, 15, 16,\n",
       "       17, 18, 19, 20, 21, 22, 23, 24])"
      ]
     },
     "execution_count": 83,
     "metadata": {},
     "output_type": "execute_result"
    }
   ],
   "source": [
    "yeniListe"
   ]
  },
  {
   "cell_type": "code",
   "execution_count": 85,
   "id": "d3293f61-31fe-489e-97e1-03a790d6cb13",
   "metadata": {},
   "outputs": [
    {
     "data": {
      "text/plain": [
       "array([[ 0,  1,  2,  3,  4],\n",
       "       [ 5,  6,  7,  8,  9],\n",
       "       [10, 11, 12, 13, 14],\n",
       "       [15, 16, 17, 18, 19],\n",
       "       [20, 21, 22, 23, 24]])"
      ]
     },
     "execution_count": 85,
     "metadata": {},
     "output_type": "execute_result"
    }
   ],
   "source": [
    "matrixYeniListe = yeniListe.reshape(5,5)\n",
    "matrixYeniListe"
   ]
  },
  {
   "cell_type": "code",
   "execution_count": 89,
   "id": "de8fc59f-b1f4-4ebc-983e-14988ea01099",
   "metadata": {},
   "outputs": [
    {
     "data": {
      "text/plain": [
       "array([0, 1, 2, 3, 4])"
      ]
     },
     "execution_count": 89,
     "metadata": {},
     "output_type": "execute_result"
    }
   ],
   "source": [
    "matrixYeniListe[0]"
   ]
  },
  {
   "cell_type": "code",
   "execution_count": 91,
   "id": "1ed0358a-178f-4776-a1af-09ae4d09e774",
   "metadata": {},
   "outputs": [
    {
     "data": {
      "text/plain": [
       "array([[ 0,  1,  2,  3,  4],\n",
       "       [10, 11, 12, 13, 14],\n",
       "       [20, 21, 22, 23, 24]])"
      ]
     },
     "execution_count": 91,
     "metadata": {},
     "output_type": "execute_result"
    }
   ],
   "source": [
    "matrixYeniListe[[0,2,4]]"
   ]
  },
  {
   "cell_type": "code",
   "execution_count": 138,
   "id": "9ff72f97-a17b-487d-b9ee-472a01e37596",
   "metadata": {},
   "outputs": [
    {
     "data": {
      "text/plain": [
       "array([2])"
      ]
     },
     "execution_count": 138,
     "metadata": {},
     "output_type": "execute_result"
    }
   ],
   "source": [
    "matrixYeniListe[[0],[2]]"
   ]
  },
  {
   "cell_type": "code",
   "execution_count": 148,
   "id": "feb8fdcd-4297-4b36-8b29-6a843655c114",
   "metadata": {},
   "outputs": [
    {
     "data": {
      "text/plain": [
       "array([ 1, 11, 21])"
      ]
     },
     "execution_count": 148,
     "metadata": {},
     "output_type": "execute_result"
    }
   ],
   "source": [
    "matrixYeniListe[[0,2,4],[1]]"
   ]
  },
  {
   "cell_type": "markdown",
   "id": "893bd16e-3302-428e-a7bf-ae081810e810",
   "metadata": {},
   "source": [
    "## OPERASYONLAR"
   ]
  },
  {
   "cell_type": "code",
   "execution_count": 151,
   "id": "72157714-ff28-4a87-9ec2-141407b0aa7f",
   "metadata": {},
   "outputs": [
    {
     "data": {
      "text/plain": [
       "array([ 5,  6,  7,  8,  9, 10, 11, 12, 13, 14, 15, 16, 17, 18, 19, 20, 21,\n",
       "       22, 23, 24])"
      ]
     },
     "execution_count": 151,
     "metadata": {},
     "output_type": "execute_result"
    }
   ],
   "source": [
    "yeniBirDizi = np.arange(5,25)\n",
    "yeniBirDizi"
   ]
  },
  {
   "cell_type": "code",
   "execution_count": 153,
   "id": "fa35de47-3b9f-457b-9d84-c38fafc16d73",
   "metadata": {},
   "outputs": [],
   "source": [
    "yeniBirDizi=np.random.randint(1,100,20)"
   ]
  },
  {
   "cell_type": "code",
   "execution_count": 155,
   "id": "d8d90739-4bb4-4644-b075-346996d6f421",
   "metadata": {},
   "outputs": [
    {
     "data": {
      "text/plain": [
       "array([11, 16, 47, 31, 33, 72, 14,  4, 59, 76, 91, 19, 11, 66,  4, 44,  1,\n",
       "        9, 47, 55])"
      ]
     },
     "execution_count": 155,
     "metadata": {},
     "output_type": "execute_result"
    }
   ],
   "source": [
    "yeniBirDizi"
   ]
  },
  {
   "cell_type": "code",
   "execution_count": 157,
   "id": "712b5951-dc4f-43bc-82da-9351b9cec8a9",
   "metadata": {},
   "outputs": [
    {
     "data": {
      "text/plain": [
       "array([False, False,  True,  True,  True,  True, False, False,  True,\n",
       "        True,  True, False, False,  True, False,  True, False, False,\n",
       "        True,  True])"
      ]
     },
     "execution_count": 157,
     "metadata": {},
     "output_type": "execute_result"
    }
   ],
   "source": [
    "yeniBirDizi>24"
   ]
  },
  {
   "cell_type": "code",
   "execution_count": 159,
   "id": "e28d099a-398a-49bf-a004-43ae88e051ba",
   "metadata": {},
   "outputs": [],
   "source": [
    "sonucDizisi= yeniBirDizi>24"
   ]
  },
  {
   "cell_type": "code",
   "execution_count": 161,
   "id": "018d23c3-fb8d-4840-ac28-65afc5f25082",
   "metadata": {},
   "outputs": [
    {
     "data": {
      "text/plain": [
       "array([False, False,  True,  True,  True,  True, False, False,  True,\n",
       "        True,  True, False, False,  True, False,  True, False, False,\n",
       "        True,  True])"
      ]
     },
     "execution_count": 161,
     "metadata": {},
     "output_type": "execute_result"
    }
   ],
   "source": [
    "sonucDizisi"
   ]
  },
  {
   "cell_type": "code",
   "execution_count": 163,
   "id": "08c83b98-a31e-49ce-ad9d-63059ad2f535",
   "metadata": {},
   "outputs": [
    {
     "data": {
      "text/plain": [
       "array([11, 16, 47, 31, 33, 72, 14,  4, 59, 76, 91, 19, 11, 66,  4, 44,  1,\n",
       "        9, 47, 55])"
      ]
     },
     "execution_count": 163,
     "metadata": {},
     "output_type": "execute_result"
    }
   ],
   "source": [
    "yeniBirDizi"
   ]
  },
  {
   "cell_type": "code",
   "execution_count": 165,
   "id": "6cef43b4-3c81-42c5-88dc-0afe22d4c07b",
   "metadata": {},
   "outputs": [
    {
     "ename": "IndexError",
     "evalue": "index 47 is out of bounds for axis 0 with size 20",
     "output_type": "error",
     "traceback": [
      "\u001b[1;31m---------------------------------------------------------------------------\u001b[0m",
      "\u001b[1;31mIndexError\u001b[0m                                Traceback (most recent call last)",
      "Cell \u001b[1;32mIn[165], line 1\u001b[0m\n\u001b[1;32m----> 1\u001b[0m sonucDizisi[yeniBirDizi]\n",
      "\u001b[1;31mIndexError\u001b[0m: index 47 is out of bounds for axis 0 with size 20"
     ]
    }
   ],
   "source": [
    "sonucDizisi[yeniBirDizi]"
   ]
  },
  {
   "cell_type": "code",
   "execution_count": 169,
   "id": "f4115061-02f3-4761-9637-e917d9f87551",
   "metadata": {},
   "outputs": [
    {
     "data": {
      "text/plain": [
       "array([47, 31, 33, 72, 59, 76, 91, 66, 44, 47, 55])"
      ]
     },
     "execution_count": 169,
     "metadata": {},
     "output_type": "execute_result"
    }
   ],
   "source": [
    "yeniBirDizi[sonucDizisi]"
   ]
  },
  {
   "cell_type": "code",
   "execution_count": 171,
   "id": "b7090187-c6ab-4aa5-860b-0497993625b3",
   "metadata": {},
   "outputs": [
    {
     "data": {
      "text/plain": [
       "array([47, 31, 33, 72, 59, 76, 91, 66, 44, 47, 55])"
      ]
     },
     "execution_count": 171,
     "metadata": {},
     "output_type": "execute_result"
    }
   ],
   "source": [
    "yeniBirDizi[yeniBirDizi>24]"
   ]
  },
  {
   "cell_type": "code",
   "execution_count": 173,
   "id": "d10bba4a-79ba-4f0b-82a1-bd394d63b25f",
   "metadata": {},
   "outputs": [
    {
     "data": {
      "text/plain": [
       "array([ 0,  1,  2,  3,  4,  5,  6,  7,  8,  9, 10, 11, 12, 13, 14, 15, 16,\n",
       "       17, 18, 19, 20, 21, 22, 23])"
      ]
     },
     "execution_count": 173,
     "metadata": {},
     "output_type": "execute_result"
    }
   ],
   "source": [
    "sonDizi= np.arange(0,24)\n",
    "sonDizi"
   ]
  },
  {
   "cell_type": "code",
   "execution_count": 175,
   "id": "c2d9b537-c542-446d-8f60-2c66a4a222c4",
   "metadata": {},
   "outputs": [
    {
     "data": {
      "text/plain": [
       "array([ 0,  2,  4,  6,  8, 10, 12, 14, 16, 18, 20, 22, 24, 26, 28, 30, 32,\n",
       "       34, 36, 38, 40, 42, 44, 46])"
      ]
     },
     "execution_count": 175,
     "metadata": {},
     "output_type": "execute_result"
    }
   ],
   "source": [
    "sonDizi + sonDizi"
   ]
  },
  {
   "cell_type": "code",
   "execution_count": 177,
   "id": "3dd5eb5e-56e7-48a3-9897-02fbecc19707",
   "metadata": {},
   "outputs": [
    {
     "data": {
      "text/plain": [
       "array([  0,   1,   4,   9,  16,  25,  36,  49,  64,  81, 100, 121, 144,\n",
       "       169, 196, 225, 256, 289, 324, 361, 400, 441, 484, 529])"
      ]
     },
     "execution_count": 177,
     "metadata": {},
     "output_type": "execute_result"
    }
   ],
   "source": [
    "sonDizi * sonDizi"
   ]
  },
  {
   "cell_type": "code",
   "execution_count": 183,
   "id": "b7f7691d-83a4-41cf-a027-e8003aec81ec",
   "metadata": {},
   "outputs": [
    {
     "data": {
      "text/plain": [
       "array([0, 0, 0, 0, 0, 0, 0, 0, 0, 0, 0, 0, 0, 0, 0, 0, 0, 0, 0, 0, 0, 0,\n",
       "       0, 0])"
      ]
     },
     "execution_count": 183,
     "metadata": {},
     "output_type": "execute_result"
    }
   ],
   "source": [
    "sonDizi - sonDizi"
   ]
  },
  {
   "cell_type": "code",
   "execution_count": 181,
   "id": "b55e24a2-724e-462a-9112-3611c718ff4d",
   "metadata": {},
   "outputs": [
    {
     "name": "stderr",
     "output_type": "stream",
     "text": [
      "C:\\Users\\hasan\\AppData\\Local\\Temp\\ipykernel_23432\\3618260773.py:1: RuntimeWarning: invalid value encountered in divide\n",
      "  sonDizi / sonDizi\n"
     ]
    },
    {
     "data": {
      "text/plain": [
       "array([nan,  1.,  1.,  1.,  1.,  1.,  1.,  1.,  1.,  1.,  1.,  1.,  1.,\n",
       "        1.,  1.,  1.,  1.,  1.,  1.,  1.,  1.,  1.,  1.,  1.])"
      ]
     },
     "execution_count": 181,
     "metadata": {},
     "output_type": "execute_result"
    }
   ],
   "source": [
    "sonDizi / sonDizi "
   ]
  },
  {
   "cell_type": "code",
   "execution_count": 185,
   "id": "f9110f84-3ce0-4483-85b3-8331ac375b3c",
   "metadata": {},
   "outputs": [
    {
     "data": {
      "text/plain": [
       "array([0.        , 1.        , 1.41421356, 1.73205081, 2.        ,\n",
       "       2.23606798, 2.44948974, 2.64575131, 2.82842712, 3.        ,\n",
       "       3.16227766, 3.31662479, 3.46410162, 3.60555128, 3.74165739,\n",
       "       3.87298335, 4.        , 4.12310563, 4.24264069, 4.35889894,\n",
       "       4.47213595, 4.58257569, 4.69041576, 4.79583152])"
      ]
     },
     "execution_count": 185,
     "metadata": {},
     "output_type": "execute_result"
    }
   ],
   "source": [
    "np.sqrt(sonDizi)"
   ]
  },
  {
   "cell_type": "code",
   "execution_count": 187,
   "id": "53d4efcd-9e93-4410-9890-22643aff7755",
   "metadata": {},
   "outputs": [
    {
     "data": {
      "text/plain": [
       "23"
      ]
     },
     "execution_count": 187,
     "metadata": {},
     "output_type": "execute_result"
    }
   ],
   "source": [
    "np.max(sonDizi)"
   ]
  },
  {
   "cell_type": "code",
   "execution_count": 189,
   "id": "65c56f91-15e2-41ad-8dae-43c03a01b394",
   "metadata": {},
   "outputs": [
    {
     "data": {
      "text/plain": [
       "0"
      ]
     },
     "execution_count": 189,
     "metadata": {},
     "output_type": "execute_result"
    }
   ],
   "source": [
    "np.min(sonDizi)"
   ]
  },
  {
   "cell_type": "code",
   "execution_count": null,
   "id": "44e318ef-a3ff-4235-981c-9950216d970d",
   "metadata": {},
   "outputs": [],
   "source": []
  }
 ],
 "metadata": {
  "kernelspec": {
   "display_name": "Python 3 (ipykernel)",
   "language": "python",
   "name": "python3"
  },
  "language_info": {
   "codemirror_mode": {
    "name": "ipython",
    "version": 3
   },
   "file_extension": ".py",
   "mimetype": "text/x-python",
   "name": "python",
   "nbconvert_exporter": "python",
   "pygments_lexer": "ipython3",
   "version": "3.12.4"
  }
 },
 "nbformat": 4,
 "nbformat_minor": 5
}
