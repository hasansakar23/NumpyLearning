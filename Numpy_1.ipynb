{
 "cells": [
  {
   "cell_type": "code",
   "execution_count": 1,
   "id": "a53e64b5-3775-41f1-96f5-92fa7ddc52f3",
   "metadata": {},
   "outputs": [],
   "source": [
    "import numpy as np"
   ]
  },
  {
   "cell_type": "markdown",
   "id": "25a0607d-0bd9-4e18-9dbb-7e558250f97b",
   "metadata": {},
   "source": [
    "## NUMPY ARRAY"
   ]
  },
  {
   "cell_type": "code",
   "execution_count": 6,
   "id": "cccdd1af-1019-452e-baa0-48b75a077b45",
   "metadata": {},
   "outputs": [
    {
     "data": {
      "text/plain": [
       "list"
      ]
     },
     "execution_count": 6,
     "metadata": {},
     "output_type": "execute_result"
    }
   ],
   "source": [
    "benimListem=[20,30,40]\n",
    "type(benimListem)\n"
   ]
  },
  {
   "cell_type": "code",
   "execution_count": 8,
   "id": "ca5fd6eb-56c4-4cbb-99c1-7d3a8befde22",
   "metadata": {},
   "outputs": [
    {
     "data": {
      "text/plain": [
       "array([20, 30, 40])"
      ]
     },
     "execution_count": 8,
     "metadata": {},
     "output_type": "execute_result"
    }
   ],
   "source": [
    "np.array(benimListem)"
   ]
  },
  {
   "cell_type": "code",
   "execution_count": 12,
   "id": "8c179a88-cb55-475b-a34f-5f65b77145ab",
   "metadata": {},
   "outputs": [
    {
     "data": {
      "text/plain": [
       "numpy.ndarray"
      ]
     },
     "execution_count": 12,
     "metadata": {},
     "output_type": "execute_result"
    }
   ],
   "source": [
    "type(np.array(benimListem))"
   ]
  },
  {
   "cell_type": "code",
   "execution_count": 14,
   "id": "3d83c4a6-13d1-443c-8b0d-3b7b93323bd7",
   "metadata": {},
   "outputs": [],
   "source": [
    "matrixListe=[ [10,20,30] , [20,30,40] , [30,40,50] ]"
   ]
  },
  {
   "cell_type": "code",
   "execution_count": 16,
   "id": "eec66352-6bcb-4ea2-89ae-3956559610d9",
   "metadata": {},
   "outputs": [
    {
     "data": {
      "text/plain": [
       "[20, 30, 40]"
      ]
     },
     "execution_count": 16,
     "metadata": {},
     "output_type": "execute_result"
    }
   ],
   "source": [
    "matrixListe[1]"
   ]
  },
  {
   "cell_type": "code",
   "execution_count": 20,
   "id": "98f0efc5-865f-44a5-a258-d4a72c70223f",
   "metadata": {},
   "outputs": [
    {
     "data": {
      "text/plain": [
       "20"
      ]
     },
     "execution_count": 20,
     "metadata": {},
     "output_type": "execute_result"
    }
   ],
   "source": [
    "matrixListe[1][0]"
   ]
  },
  {
   "cell_type": "code",
   "execution_count": 24,
   "id": "bab4d3d8-17c1-4ba5-8401-a0ba7f64753c",
   "metadata": {},
   "outputs": [
    {
     "data": {
      "text/plain": [
       "array([[10, 20, 30],\n",
       "       [20, 30, 40],\n",
       "       [30, 40, 50]])"
      ]
     },
     "execution_count": 24,
     "metadata": {},
     "output_type": "execute_result"
    }
   ],
   "source": [
    "np.array(matrixListe)"
   ]
  },
  {
   "cell_type": "markdown",
   "id": "bb6fb150-da21-4f02-8f1e-c2381c977880",
   "metadata": {},
   "source": [
    "## ARANGE"
   ]
  },
  {
   "cell_type": "code",
   "execution_count": 32,
   "id": "2352e6a9-648b-4b88-9828-e1af10922a7a",
   "metadata": {},
   "outputs": [
    {
     "data": {
      "text/plain": [
       "[0, 1, 2, 3, 4, 5, 6, 7, 8, 9]"
      ]
     },
     "execution_count": 32,
     "metadata": {},
     "output_type": "execute_result"
    }
   ],
   "source": [
    "list(range(0,10))\n",
    "# burada normal python ı kullandık"
   ]
  },
  {
   "cell_type": "code",
   "execution_count": 34,
   "id": "52a7f2eb-3bba-42be-a687-7ca7349fed2f",
   "metadata": {},
   "outputs": [
    {
     "data": {
      "text/plain": [
       "array([0, 1, 2, 3, 4, 5, 6, 7, 8, 9])"
      ]
     },
     "execution_count": 34,
     "metadata": {},
     "output_type": "execute_result"
    }
   ],
   "source": [
    "np.arange(0,10)\n",
    "#  buradaysa numpy kütühanesini kullanarak aralığında verdiğimiz değer aralığında liste oluştue"
   ]
  },
  {
   "cell_type": "code",
   "execution_count": 36,
   "id": "ce803418-ebb9-4027-a1a8-26b886054178",
   "metadata": {},
   "outputs": [
    {
     "data": {
      "text/plain": [
       "array([0, 2, 4, 6, 8])"
      ]
     },
     "execution_count": 36,
     "metadata": {},
     "output_type": "execute_result"
    }
   ],
   "source": [
    "np.arange(0,10,2)\n",
    "# üçüncü değerstep size ı verir"
   ]
  },
  {
   "cell_type": "markdown",
   "id": "e2aa77b8-5bef-44c9-b673-6340a24870e0",
   "metadata": {},
   "source": [
    "## ZEROS"
   ]
  },
  {
   "cell_type": "code",
   "execution_count": 40,
   "id": "f49303c9-96ee-4b20-bed2-fdd1e1c2090d",
   "metadata": {},
   "outputs": [
    {
     "data": {
      "text/plain": [
       "array([0., 0., 0., 0., 0.])"
      ]
     },
     "execution_count": 40,
     "metadata": {},
     "output_type": "execute_result"
    }
   ],
   "source": [
    "np.zeros(5)"
   ]
  },
  {
   "cell_type": "code",
   "execution_count": 42,
   "id": "36d90f06-9644-4d8e-9308-a92305376f2d",
   "metadata": {},
   "outputs": [
    {
     "data": {
      "text/plain": [
       "array([[0., 0.],\n",
       "       [0., 0.]])"
      ]
     },
     "execution_count": 42,
     "metadata": {},
     "output_type": "execute_result"
    }
   ],
   "source": [
    "np.zeros((2,2))"
   ]
  },
  {
   "cell_type": "code",
   "execution_count": 44,
   "id": "ae30cf8b-a470-417e-9001-c4d042fe1427",
   "metadata": {},
   "outputs": [
    {
     "data": {
      "text/plain": [
       "array([[0., 0., 0., 0., 0.],\n",
       "       [0., 0., 0., 0., 0.],\n",
       "       [0., 0., 0., 0., 0.],\n",
       "       [0., 0., 0., 0., 0.],\n",
       "       [0., 0., 0., 0., 0.],\n",
       "       [0., 0., 0., 0., 0.],\n",
       "       [0., 0., 0., 0., 0.],\n",
       "       [0., 0., 0., 0., 0.],\n",
       "       [0., 0., 0., 0., 0.]])"
      ]
     },
     "execution_count": 44,
     "metadata": {},
     "output_type": "execute_result"
    }
   ],
   "source": [
    "np.zeros((9,5))"
   ]
  },
  {
   "cell_type": "markdown",
   "id": "9caaa183-e1ac-4c7c-aec5-3a1e2320a154",
   "metadata": {},
   "source": [
    " ## ONES"
   ]
  },
  {
   "cell_type": "code",
   "execution_count": 47,
   "id": "43eb0c96-bbdb-4fa4-bb78-02e635a01f92",
   "metadata": {},
   "outputs": [
    {
     "data": {
      "text/plain": [
       "array([1., 1., 1., 1., 1.])"
      ]
     },
     "execution_count": 47,
     "metadata": {},
     "output_type": "execute_result"
    }
   ],
   "source": [
    "np.ones(5)"
   ]
  },
  {
   "cell_type": "code",
   "execution_count": 49,
   "id": "ee732af4-ca55-4bef-8f72-4134795f2234",
   "metadata": {},
   "outputs": [
    {
     "data": {
      "text/plain": [
       "array([[1., 1., 1., 1., 1.],\n",
       "       [1., 1., 1., 1., 1.],\n",
       "       [1., 1., 1., 1., 1.],\n",
       "       [1., 1., 1., 1., 1.],\n",
       "       [1., 1., 1., 1., 1.],\n",
       "       [1., 1., 1., 1., 1.],\n",
       "       [1., 1., 1., 1., 1.],\n",
       "       [1., 1., 1., 1., 1.],\n",
       "       [1., 1., 1., 1., 1.]])"
      ]
     },
     "execution_count": 49,
     "metadata": {},
     "output_type": "execute_result"
    }
   ],
   "source": [
    "np.ones((9,5))"
   ]
  },
  {
   "cell_type": "markdown",
   "id": "b46f7b1e-5bc3-4dde-b966-5ad9eef9bfd5",
   "metadata": {},
   "source": [
    "## LINSPACE"
   ]
  },
  {
   "cell_type": "code",
   "execution_count": 52,
   "id": "33747a10-d6aa-470b-8133-0eb4fe71c4bd",
   "metadata": {},
   "outputs": [
    {
     "data": {
      "text/plain": [
       "array([ 0.,  5., 10., 15., 20.])"
      ]
     },
     "execution_count": 52,
     "metadata": {},
     "output_type": "execute_result"
    }
   ],
   "source": [
    "np.linspace(0,20,5)"
   ]
  },
  {
   "cell_type": "code",
   "execution_count": 54,
   "id": "b619d5e9-99b1-4235-99c1-35d7396a7902",
   "metadata": {},
   "outputs": [
    {
     "data": {
      "text/plain": [
       "array([ 0.        ,  0.52631579,  1.05263158,  1.57894737,  2.10526316,\n",
       "        2.63157895,  3.15789474,  3.68421053,  4.21052632,  4.73684211,\n",
       "        5.26315789,  5.78947368,  6.31578947,  6.84210526,  7.36842105,\n",
       "        7.89473684,  8.42105263,  8.94736842,  9.47368421, 10.        ])"
      ]
     },
     "execution_count": 54,
     "metadata": {},
     "output_type": "execute_result"
    }
   ],
   "source": [
    "np.linspace(0,10,20)"
   ]
  },
  {
   "cell_type": "code",
   "execution_count": 61,
   "id": "8da978ae-8142-4c3a-9e41-e46c51780ca4",
   "metadata": {},
   "outputs": [
    {
     "data": {
      "text/plain": [
       "array([  0.,   1.,   2.,   3.,   4.,   5.,   6.,   7.,   8.,   9.,  10.,\n",
       "        11.,  12.,  13.,  14.,  15.,  16.,  17.,  18.,  19.,  20.,  21.,\n",
       "        22.,  23.,  24.,  25.,  26.,  27.,  28.,  29.,  30.,  31.,  32.,\n",
       "        33.,  34.,  35.,  36.,  37.,  38.,  39.,  40.,  41.,  42.,  43.,\n",
       "        44.,  45.,  46.,  47.,  48.,  49.,  50.,  51.,  52.,  53.,  54.,\n",
       "        55.,  56.,  57.,  58.,  59.,  60.,  61.,  62.,  63.,  64.,  65.,\n",
       "        66.,  67.,  68.,  69.,  70.,  71.,  72.,  73.,  74.,  75.,  76.,\n",
       "        77.,  78.,  79.,  80.,  81.,  82.,  83.,  84.,  85.,  86.,  87.,\n",
       "        88.,  89.,  90.,  91.,  92.,  93.,  94.,  95.,  96.,  97.,  98.,\n",
       "        99., 100.])"
      ]
     },
     "execution_count": 61,
     "metadata": {},
     "output_type": "execute_result"
    }
   ],
   "source": [
    "np.linspace(0,100,101)"
   ]
  },
  {
   "cell_type": "markdown",
   "id": "967318d5-3769-4385-b82a-ddb9cfd02127",
   "metadata": {},
   "source": [
    "## EYE"
   ]
  },
  {
   "cell_type": "code",
   "execution_count": 64,
   "id": "1d76e60b-0f9e-4db3-aa40-3f417b309351",
   "metadata": {},
   "outputs": [
    {
     "data": {
      "text/plain": [
       "array([[1., 0., 0., 0., 0., 0., 0., 0., 0., 0.],\n",
       "       [0., 1., 0., 0., 0., 0., 0., 0., 0., 0.],\n",
       "       [0., 0., 1., 0., 0., 0., 0., 0., 0., 0.],\n",
       "       [0., 0., 0., 1., 0., 0., 0., 0., 0., 0.],\n",
       "       [0., 0., 0., 0., 1., 0., 0., 0., 0., 0.],\n",
       "       [0., 0., 0., 0., 0., 1., 0., 0., 0., 0.],\n",
       "       [0., 0., 0., 0., 0., 0., 1., 0., 0., 0.],\n",
       "       [0., 0., 0., 0., 0., 0., 0., 1., 0., 0.],\n",
       "       [0., 0., 0., 0., 0., 0., 0., 0., 1., 0.],\n",
       "       [0., 0., 0., 0., 0., 0., 0., 0., 0., 1.]])"
      ]
     },
     "execution_count": 64,
     "metadata": {},
     "output_type": "execute_result"
    }
   ],
   "source": [
    "np.eye(10)"
   ]
  },
  {
   "cell_type": "code",
   "execution_count": 66,
   "id": "81081c30-67a4-4185-b716-f63c0b1f29cb",
   "metadata": {},
   "outputs": [
    {
     "data": {
      "text/plain": [
       "array([[1., 0., 0.],\n",
       "       [0., 1., 0.],\n",
       "       [0., 0., 1.]])"
      ]
     },
     "execution_count": 66,
     "metadata": {},
     "output_type": "execute_result"
    }
   ],
   "source": [
    "np.eye(3)"
   ]
  },
  {
   "cell_type": "markdown",
   "id": "2cd5780d-9aab-4c11-8cb8-cbf73fa6fbeb",
   "metadata": {},
   "source": [
    "## RANDOM"
   ]
  },
  {
   "cell_type": "code",
   "execution_count": 69,
   "id": "9ee37fb0-f44f-41a3-8dc3-b1db3fa67f15",
   "metadata": {},
   "outputs": [
    {
     "data": {
      "text/plain": [
       "array([ 1.6870489 ,  0.01567802,  0.06597801,  0.11468312,  0.01859132,\n",
       "        0.43598723,  0.26061217, -0.59258747])"
      ]
     },
     "execution_count": 69,
     "metadata": {},
     "output_type": "execute_result"
    }
   ],
   "source": [
    "np.random.randn(8)"
   ]
  },
  {
   "cell_type": "code",
   "execution_count": 71,
   "id": "c2d0e6e9-3919-4170-9803-974e6a5b3d4c",
   "metadata": {},
   "outputs": [
    {
     "data": {
      "text/plain": [
       "array([[0.73620942, 0.16799224, 0.49978399, 0.28517999],\n",
       "       [0.69824465, 0.68464744, 0.15087579, 0.6621443 ],\n",
       "       [0.9017275 , 0.80407657, 0.30214258, 0.16131078],\n",
       "       [0.07163902, 0.44903569, 0.66094329, 0.34878093]])"
      ]
     },
     "execution_count": 71,
     "metadata": {},
     "output_type": "execute_result"
    }
   ],
   "source": [
    "np.random.rand(4,4)"
   ]
  },
  {
   "cell_type": "code",
   "execution_count": 77,
   "id": "51da20a9-9475-4c4b-b78e-3540f365669c",
   "metadata": {},
   "outputs": [
    {
     "data": {
      "text/plain": [
       "1"
      ]
     },
     "execution_count": 77,
     "metadata": {},
     "output_type": "execute_result"
    }
   ],
   "source": [
    "np.random.randint(1,10)\n",
    "# ilk yazılan dahil\n",
    "# son yazılan dahil değil"
   ]
  },
  {
   "cell_type": "code",
   "execution_count": 75,
   "id": "a3426635-0390-46ad-8df1-038a1d50a2a6",
   "metadata": {},
   "outputs": [
    {
     "data": {
      "text/plain": [
       "array([2, 8, 5, 3, 1])"
      ]
     },
     "execution_count": 75,
     "metadata": {},
     "output_type": "execute_result"
    }
   ],
   "source": [
    "np.random.randint(1,10,5)\n",
    "#  sonuncu kaç tane random int istediğimizi belirtiyor"
   ]
  },
  {
   "cell_type": "code",
   "execution_count": 79,
   "id": "507e1d85-ee65-4113-8e61-f7e3f0a2e1e8",
   "metadata": {},
   "outputs": [
    {
     "data": {
      "text/plain": [
       "array([ 0,  1,  2,  3,  4,  5,  6,  7,  8,  9, 10, 11, 12, 13, 14, 15, 16,\n",
       "       17, 18, 19, 20, 21, 22, 23, 24, 25, 26, 27, 28, 29])"
      ]
     },
     "execution_count": 79,
     "metadata": {},
     "output_type": "execute_result"
    }
   ],
   "source": [
    "benimNumpyDizim = np.arange(30)\n",
    "benimNumpyDizim"
   ]
  },
  {
   "cell_type": "code",
   "execution_count": 88,
   "id": "46d117d1-971c-4050-87aa-1d358fba0881",
   "metadata": {},
   "outputs": [],
   "source": [
    "benimRandomDizim = np.random.randint(0,100,20)"
   ]
  },
  {
   "cell_type": "code",
   "execution_count": 90,
   "id": "ae0158de-f1d4-4459-b6fe-f5e99dfc7103",
   "metadata": {},
   "outputs": [
    {
     "data": {
      "text/plain": [
       "array([98, 73, 24, 43, 97, 88, 86, 81, 91, 50, 25, 73, 30, 97, 35, 71, 54,\n",
       "       87, 50, 67])"
      ]
     },
     "execution_count": 90,
     "metadata": {},
     "output_type": "execute_result"
    }
   ],
   "source": [
    "benimRandomDizim"
   ]
  },
  {
   "cell_type": "code",
   "execution_count": 146,
   "id": "eabbd24e-e96d-441a-ad89-53ca2f5136d8",
   "metadata": {},
   "outputs": [],
   "source": [
    "benimRandomDegerim = np.random.choice(benimRandomDizim)"
   ]
  },
  {
   "cell_type": "code",
   "execution_count": 148,
   "id": "e39f3614-ea25-460c-b1b1-554407bc07f4",
   "metadata": {},
   "outputs": [
    {
     "data": {
      "text/plain": [
       "73"
      ]
     },
     "execution_count": 148,
     "metadata": {},
     "output_type": "execute_result"
    }
   ],
   "source": [
    "benimRandomDegerim"
   ]
  },
  {
   "cell_type": "markdown",
   "id": "51899541-dd0e-43b6-8e8a-228f1984962f",
   "metadata": {},
   "source": [
    "## NUMPY DİZİ METHODLARI"
   ]
  },
  {
   "cell_type": "code",
   "execution_count": 96,
   "id": "ca72949b-c1ae-4166-9166-c04f9a52d8db",
   "metadata": {},
   "outputs": [
    {
     "data": {
      "text/plain": [
       "array([[ 0,  1,  2,  3,  4,  5],\n",
       "       [ 6,  7,  8,  9, 10, 11],\n",
       "       [12, 13, 14, 15, 16, 17],\n",
       "       [18, 19, 20, 21, 22, 23],\n",
       "       [24, 25, 26, 27, 28, 29]])"
      ]
     },
     "execution_count": 96,
     "metadata": {},
     "output_type": "execute_result"
    }
   ],
   "source": [
    "benimNumpyDizim.reshape(5,6)"
   ]
  },
  {
   "cell_type": "code",
   "execution_count": 98,
   "id": "37fd0528-ead9-44ee-8adc-0be3737d7331",
   "metadata": {},
   "outputs": [
    {
     "data": {
      "text/plain": [
       "array([[ 0,  1,  2],\n",
       "       [ 3,  4,  5],\n",
       "       [ 6,  7,  8],\n",
       "       [ 9, 10, 11],\n",
       "       [12, 13, 14],\n",
       "       [15, 16, 17],\n",
       "       [18, 19, 20],\n",
       "       [21, 22, 23],\n",
       "       [24, 25, 26],\n",
       "       [27, 28, 29]])"
      ]
     },
     "execution_count": 98,
     "metadata": {},
     "output_type": "execute_result"
    }
   ],
   "source": [
    "benimNumpyDizim.reshape(10,3)"
   ]
  },
  {
   "cell_type": "code",
   "execution_count": 106,
   "id": "a5bacc30-b440-4fc9-9fca-d8bd4f5e165d",
   "metadata": {},
   "outputs": [
    {
     "data": {
      "text/plain": [
       "29"
      ]
     },
     "execution_count": 106,
     "metadata": {},
     "output_type": "execute_result"
    }
   ],
   "source": [
    "benimNumpyDizim.max()"
   ]
  },
  {
   "cell_type": "code",
   "execution_count": 108,
   "id": "39721e47-9297-4bc5-91dd-7656a8a9cbec",
   "metadata": {},
   "outputs": [
    {
     "data": {
      "text/plain": [
       "98"
      ]
     },
     "execution_count": 108,
     "metadata": {},
     "output_type": "execute_result"
    }
   ],
   "source": [
    "benimRandomDizim.max()"
   ]
  },
  {
   "cell_type": "code",
   "execution_count": 110,
   "id": "b7e527f4-7360-45cc-83e5-2436866f4ae5",
   "metadata": {},
   "outputs": [
    {
     "data": {
      "text/plain": [
       "24"
      ]
     },
     "execution_count": 110,
     "metadata": {},
     "output_type": "execute_result"
    }
   ],
   "source": [
    "benimRandomDizim.min()"
   ]
  },
  {
   "cell_type": "code",
   "execution_count": 114,
   "id": "0b2a88fe-026f-4bfd-bccc-d3f7fd7b96d8",
   "metadata": {},
   "outputs": [
    {
     "data": {
      "text/plain": [
       "0"
      ]
     },
     "execution_count": 114,
     "metadata": {},
     "output_type": "execute_result"
    }
   ],
   "source": [
    "benimRandomDizim.argmax() "
   ]
  },
  {
   "cell_type": "code",
   "execution_count": 118,
   "id": "ef8bb850-4e38-45ec-b77c-4eb86c112d26",
   "metadata": {},
   "outputs": [
    {
     "data": {
      "text/plain": [
       "2"
      ]
     },
     "execution_count": 118,
     "metadata": {},
     "output_type": "execute_result"
    }
   ],
   "source": [
    "benimRandomDizim.argmin()"
   ]
  },
  {
   "cell_type": "code",
   "execution_count": 124,
   "id": "a3baf375-6332-4734-b0ce-142c46938a0e",
   "metadata": {},
   "outputs": [
    {
     "data": {
      "text/plain": [
       "(30,)"
      ]
     },
     "execution_count": 124,
     "metadata": {},
     "output_type": "execute_result"
    }
   ],
   "source": [
    "benimNumpyDizim.shape"
   ]
  },
  {
   "cell_type": "markdown",
   "id": "d3ce14e6-8d4f-4aae-b86a-f69ca4768f4d",
   "metadata": {},
   "source": [
    "Önceden reshape yaptığım dizi sadece o satırda değişti.  \n",
    "Yani asıl dizimi değiştirmedi. \n",
    "Bunu unutma"
   ]
  },
  {
   "cell_type": "code",
   "execution_count": 129,
   "id": "8615b758-1904-4f0c-83ec-1a0ec770ade2",
   "metadata": {},
   "outputs": [],
   "source": [
    "reshapeDizim = benimNumpyDizim.reshape(5,6)"
   ]
  },
  {
   "cell_type": "code",
   "execution_count": 131,
   "id": "47286700-80dd-44ae-9248-4676501abf79",
   "metadata": {},
   "outputs": [
    {
     "data": {
      "text/plain": [
       "array([[ 0,  1,  2,  3,  4,  5],\n",
       "       [ 6,  7,  8,  9, 10, 11],\n",
       "       [12, 13, 14, 15, 16, 17],\n",
       "       [18, 19, 20, 21, 22, 23],\n",
       "       [24, 25, 26, 27, 28, 29]])"
      ]
     },
     "execution_count": 131,
     "metadata": {},
     "output_type": "execute_result"
    }
   ],
   "source": [
    "reshapeDizim"
   ]
  },
  {
   "cell_type": "code",
   "execution_count": 133,
   "id": "3bd38ef6-062c-41c3-9cac-aae28ee9c26e",
   "metadata": {},
   "outputs": [
    {
     "data": {
      "text/plain": [
       "(5, 6)"
      ]
     },
     "execution_count": 133,
     "metadata": {},
     "output_type": "execute_result"
    }
   ],
   "source": [
    "reshapeDizim.shape"
   ]
  },
  {
   "cell_type": "code",
   "execution_count": null,
   "id": "a339e671-11b6-4e67-890f-365ac7470f75",
   "metadata": {},
   "outputs": [],
   "source": []
  }
 ],
 "metadata": {
  "kernelspec": {
   "display_name": "Python 3 (ipykernel)",
   "language": "python",
   "name": "python3"
  },
  "language_info": {
   "codemirror_mode": {
    "name": "ipython",
    "version": 3
   },
   "file_extension": ".py",
   "mimetype": "text/x-python",
   "name": "python",
   "nbconvert_exporter": "python",
   "pygments_lexer": "ipython3",
   "version": "3.12.4"
  }
 },
 "nbformat": 4,
 "nbformat_minor": 5
}
